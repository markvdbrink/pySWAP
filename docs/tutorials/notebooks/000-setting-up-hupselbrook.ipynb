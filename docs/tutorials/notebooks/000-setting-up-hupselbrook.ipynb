{
 "cells": [
  {
   "cell_type": "markdown",
   "metadata": {},
   "source": [
    "# Setting up a model\n",
    "\n",
    "SWAP configuration files consist of a number of switches (parameters with \"SW\" prefix) and related key value pairs and tables. All these can be groupped in sections corresponding to model's specific parts. For example, meteorological section contains parameters related to climatological calculations whereas Crop section handles all parameters related to, e.g., crop water uptake. This can be seen in the classic template of SWAP file imputs (see Wiki section).\n",
    "\n",
    "In pySWAP, each distinct section is represented as a class, similarily to flopy, a popular Python package running MODFLOW models. Therefore, in a sense, defining a model with pySWAP feels similar to defining it in a classic ASCII template, but of course gives you way more options to work with your models further. Finally, when all necessary objects are defined, you create a Model instance. You can also define an empty Model instance, and add each section to that instance after it's created. Let's set up `Metadata` and `GeneralSettings` for the model. We will use the empty model instance approach.\n",
    "\n",
    "!!! tip\n",
    "\n",
    "    pySWAP is written with type hinting in mind. When using a code editor like Visual Studio Code, when you type `pyswap.`, you will already see hints of what class or function you can call. It works the same when you define classes; when hoover over the class signature, you will see available parameters, value ranges and documentation."
   ]
  },
  {
   "cell_type": "code",
   "execution_count": 1,
   "metadata": {},
   "outputs": [],
   "source": [
    "import pyswap as psp"
   ]
  },
  {
   "cell_type": "code",
   "execution_count": null,
   "metadata": {},
   "outputs": [],
   "source": [
    "ml = psp.Model()\n",
    "\n",
    "meta = psp.Metadata(\n",
    "    author=\"John Doe\",\n",
    "    institution=\"University of Somewhere\",\n",
    "    email=\"john.doe@somewhere.com\",\n",
    "    project=\"pySWAP test - hupselbrook\",\n",
    "    swap_ver=\"4.2\",\n",
    ")\n",
    "\n",
    "simset = psp.GeneralSettings(\n",
    "    tstart=\"2002-01-01\",\n",
    "    tend=\"2004-12-31\",\n",
    "    extensions=[\"vap\", \"blc\", \"sba\", \"inc\", \"csv\"],\n",
    "    nprintday=1,\n",
    "    swerror=1,\n",
    "    swscre=0,\n",
    "    swmonth=1,\n",
    "    swyrvar=0,\n",
    "    datefix=\"31 12\",\n",
    "    inlist_csv=[\n",
    "        \"rain\",\n",
    "        \"irrig\",\n",
    "        \"interc\",\n",
    "        \"runoff\",\n",
    "        \"drainage\",\n",
    "        \"dstor\",\n",
    "        \"epot\",\n",
    "        \"eact\",\n",
    "        \"tpot\",\n",
    "        \"tact\",\n",
    "        \"qbottom\",\n",
    "        \"gwl\",\n",
    "    ],\n",
    ")\n",
    "\n",
    "ml.metadata = meta\n",
    "ml.generalsettings = simset"
   ]
  },
  {
   "cell_type": "markdown",
   "metadata": {},
   "source": [
    "!!! note\n",
    "\n",
    "    At this stage there is one important difference to explain; you do not need to (and actually cannot) adjust the paths at the beginning. This is because pySWAP runs SWAP in a temporary directory and handles paths automatically.\n",
    "\n",
    "\n",
    "After adding the two sections, you can view how the section would look like as a SWAP-compatible string, or see the current shape of the .swp file by calling `ml.swp` property. You may notice more parameters that you wanted to set. It's because by default, heat flow (`HeatFlow`), solute transport (`SoluteTransport`) and fixed irrigation (`FixedIrrigation`) modules are turned off in the model. There are also default settings for some parameters of Richard's equation (`RichardsSettings`). To change it, it's enough to define your own objects with desired settings and reassign them in the `ml` instance."
   ]
  },
  {
   "cell_type": "code",
   "execution_count": null,
   "metadata": {},
   "outputs": [],
   "source": [
    "print(ml.swp)"
   ]
  },
  {
   "cell_type": "markdown",
   "metadata": {},
   "source": [
    "Setting up meteorological section additionally requires providing some rainfall data in a CSV format. Those data are enclosed in a `File` type object. For meteorological data it's `MetFile` class. Let's create the `Meteorology` object with a `MetFile` attached to it.\n",
    "\n",
    "Currently the other built-in method of getting the MetFile is using KNMI service. Read documentation of ``"
   ]
  },
  {
   "cell_type": "code",
   "execution_count": null,
   "metadata": {},
   "outputs": [],
   "source": [
    "# here we additionally need to load the meteo data from testcase library\n",
    "from pyswap import testcase\n",
    "\n",
    "meteo_data = psp.load_from_csv(\n",
    "    metfil=\"283.met\", csv_path=testcase.load_met(\"hupselbrook\")\n",
    ")\n",
    "\n",
    "meteo = psp.Meteorology(\n",
    "    lat=52.0,\n",
    "    alt=21.0,\n",
    "    swetr=0,\n",
    "    metfile=meteo_data,\n",
    "    swdivide=1,\n",
    "    swmetdetail=0,\n",
    "    altw=10.0,\n",
    "    angstroma=0.25,\n",
    "    angstromb=0.5,\n",
    ")\n",
    "\n",
    "ml.meteorology = meteo"
   ]
  },
  {
   "cell_type": "markdown",
   "metadata": {},
   "source": []
  }
 ],
 "metadata": {
  "kernelspec": {
   "display_name": "pyswap-U62T3krn-py3.11",
   "language": "python",
   "name": "python3"
  },
  "language_info": {
   "codemirror_mode": {
    "name": "ipython",
    "version": 3
   },
   "file_extension": ".py",
   "mimetype": "text/x-python",
   "name": "python",
   "nbconvert_exporter": "python",
   "pygments_lexer": "ipython3",
   "version": "3.11.11"
  }
 },
 "nbformat": 4,
 "nbformat_minor": 2
}
