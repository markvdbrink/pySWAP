{
 "cells": [
  {
   "cell_type": "markdown",
   "metadata": {},
   "source": [
    "# HDF5 Database in pySwap\n",
    "\n",
    "below is a quick example on how to use the HDF5 database format within the pySWAP. HDF5 (Hierarchical Data Format version 5) is a versatile data model that can represent complex data objects and a wide variety of metadata. It is widely used for storing large amounts of data efficiently and is particularly useful in scientific computing. It can be used for partial retrieval as well, potentially limiting the number of data stored.\n",
    "\n",
    "In this section we:\n",
    "- Create and manage HDF5 files with pySwap.\n",
    "- Store and retrieve data in HDF5 format.\n"
   ]
  },
  {
   "cell_type": "code",
   "execution_count": null,
   "metadata": {},
   "outputs": [],
   "source": [
    "import pyswap as ps\n",
    "from pyswap import testcase\n",
    "\n",
    "# get the Model object and run it\n",
    "model = testcase.get(\"hupselbrook\")\n",
    "result = model.run(\"./\")\n",
    "\n",
    "# now, let's create an inteface object and save the model and the result\n",
    "f = ps.HDF5(filename=\"data.h5\")\n",
    "f.save_model(model=model, result=result)"
   ]
  },
  {
   "cell_type": "markdown",
   "metadata": {
    "vscode": {
     "languageId": "markdown"
    }
   },
   "source": [
    "## Loading and Modifying Models\n",
    "\n",
    "Above you can see that the model was saved to the .h5 file. If the file already exists (for example one with your other projects),\n",
    "you will get a warning message and the program will skip creation of additional elements in the database.\n",
    "\n",
    "Now we can:\n",
    "- List the models stored in the HDF5 file.\n",
    "- Load a specific model from the HDF5 file.\n",
    "- Create a copy of the loaded model and modify its parameters for another run."
   ]
  },
  {
   "cell_type": "code",
   "execution_count": null,
   "metadata": {},
   "outputs": [],
   "source": [
    "f.list_models"
   ]
  },
  {
   "cell_type": "code",
   "execution_count": null,
   "metadata": {},
   "outputs": [],
   "source": [
    "db = f.load(\"pySWAP test - hupselbrook\", load_results=True)"
   ]
  },
  {
   "cell_type": "code",
   "execution_count": null,
   "metadata": {},
   "outputs": [],
   "source": [
    "ml2 = db[\"base\"][0].model_copy(deep=True)"
   ]
  },
  {
   "cell_type": "code",
   "execution_count": null,
   "metadata": {},
   "outputs": [],
   "source": [
    "# We modify the initial groundwater level:\n",
    "soil_moisture_alt = ml2.soilmoisture.model_copy(update={\"gwli\": -74})"
   ]
  },
  {
   "cell_type": "code",
   "execution_count": null,
   "metadata": {},
   "outputs": [],
   "source": [
    "# then we ammend the main model object, remembering to change the version name:\n",
    "ml_gwliup = ml2.model_copy(\n",
    "    update={\"soilmoisture\": soil_moisture_alt, \"version\": \"gwli_up\"}\n",
    ")"
   ]
  },
  {
   "cell_type": "code",
   "execution_count": null,
   "metadata": {},
   "outputs": [],
   "source": [
    "# And run the model\n",
    "result2 = ml_gwliup.run(\"./\")"
   ]
  },
  {
   "cell_type": "code",
   "execution_count": null,
   "metadata": {},
   "outputs": [],
   "source": [
    "# Savin the model version to the database\n",
    "f.save_model(model=ml_gwliup)\n",
    "\n",
    "f.list_models"
   ]
  },
  {
   "cell_type": "markdown",
   "metadata": {},
   "source": [
    "## Visualise the results\n",
    "\n",
    "Now you can observe the results by plotting the main output pandas.DataFrame object, like you normally would."
   ]
  },
  {
   "cell_type": "code",
   "execution_count": null,
   "metadata": {},
   "outputs": [],
   "source": [
    "result2.output[\"GWL\"].plot()"
   ]
  }
 ],
 "metadata": {
  "kernelspec": {
   "display_name": "pyswap-U62T3krn-py3.11",
   "language": "python",
   "name": "python3"
  },
  "language_info": {
   "codemirror_mode": {
    "name": "ipython",
    "version": 3
   },
   "file_extension": ".py",
   "mimetype": "text/x-python",
   "name": "python",
   "nbconvert_exporter": "python",
   "pygments_lexer": "ipython3",
   "version": "3.11.11"
  }
 },
 "nbformat": 4,
 "nbformat_minor": 2
}
