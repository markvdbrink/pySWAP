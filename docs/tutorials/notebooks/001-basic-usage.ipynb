{
 "cells": [
  {
   "cell_type": "markdown",
   "metadata": {},
   "source": [
    "# Basic usage\n",
    "\n",
    "Welcome to the basic usage notebook of pySWAP package. Here we will go through the basics of how a SWAP model is constructed in pySWAP, load one of the test case models and explore it a bit."
   ]
  },
  {
   "cell_type": "code",
   "execution_count": 1,
   "metadata": {},
   "outputs": [],
   "source": [
    "import pyswap as ps\n",
    "from pyswap import testcase"
   ]
  },
  {
   "cell_type": "markdown",
   "metadata": {},
   "source": [
    "pySWAP is an object-oriented library, which means that we try to split and encapsulate distinct parts of the SWAP model setup as objects. These objects need to be defined by the user at the initial stage and then can later be easily manipulated, copied and compared. Below is an example of the Meteorological settings object:"
   ]
  },
  {
   "cell_type": "markdown",
   "metadata": {},
   "source": [
    "## Hupselbrook testcase\n",
    "\n",
    "A lot of the model settings still need to be explicitly written out. There is, however, an ongoing effort to reduce to minimum the amount of code that has to be written for the initial model. If you are interested how the Hupselbrook model is implemented in pySWAP, take a look at file `hupselbrook.py` in `testcase` module.\n",
    "\n",
    "Let's load the model and check the metadata."
   ]
  },
  {
   "cell_type": "code",
   "execution_count": 2,
   "metadata": {},
   "outputs": [],
   "source": [
    "ml = testcase.get(\"hupselbrook\")"
   ]
  },
  {
   "cell_type": "markdown",
   "metadata": {},
   "source": [
    "There is more to see, for example, we can check, different components of the model or see how specific input files will look like (when using the model_string() method, use print() for better formatting):"
   ]
  },
  {
   "cell_type": "markdown",
   "metadata": {},
   "source": [
    "## Running the model\n",
    "\n",
    "`Model` object has a method run, which runs the model and captures the results into a `Result` object. The only argument that needs to be passed is the path to where the temporary directory can be created."
   ]
  },
  {
   "cell_type": "code",
   "execution_count": 9,
   "metadata": {},
   "outputs": [],
   "source": [
    "# updated general settings including inlist_csv_tz\n",
    "general_new = ml.general_settings.add_extension(\"csv_tz\")\n",
    "general_new.inlist_csv_tz = [\"WC\", \"H\"]"
   ]
  },
  {
   "cell_type": "code",
   "execution_count": 10,
   "metadata": {},
   "outputs": [],
   "source": [
    "ml2 = ml.model_copy(update={\n",
    "    \"general_settings\": general_new\n",
    "})"
   ]
  },
  {
   "cell_type": "code",
   "execution_count": 11,
   "metadata": {},
   "outputs": [
    {
     "data": {
      "text/plain": [
       "GeneralSettings(name='generalsettings', extensions=['vap', 'blc', 'sba', 'inc', 'csv', 'csv_tz'], pathwork='./', pathatm='./', pathcrop='./', pathdrain='./', swscre=0, swerror=1, tstart=datetime.date(2002, 1, 1), tend=datetime.date(2004, 12, 31), nprintday=1, swmonth=1, swyrvar=0, period=None, swres=None, swodat=None, outdatin=None, datefix=datetime.date(2004, 12, 31), outdat=None, outfil='result', swheader=0, inlist_csv=['rain', 'irrig', 'interc', 'runoff', 'drainage', 'dstor', 'epot', 'eact', 'tpot', 'tact', 'qbottom', 'gwl'], inlist_csv_tz=['WC', 'H'], swafo=0, swaun=0, critdevmasbal=None, swdiscrvert=0, numnodnew=None, dznew=None, swwba=0, swend=0, swvap=1, swbal=0, swblc=1, swsba=1, swate=0, swbma=0, swdrf=0, swswb=0, swini=0, swinc=1, swcrp=0, swstr=0, swirg=0, swcsv=1, swcsv_tz=1)"
      ]
     },
     "execution_count": 11,
     "metadata": {},
     "output_type": "execute_result"
    }
   ],
   "source": [
    "ml2.general_settings"
   ]
  },
  {
   "cell_type": "code",
   "execution_count": 12,
   "metadata": {},
   "outputs": [
    {
     "name": "stderr",
     "output_type": "stream",
     "text": [
      "INFO: Copying linux executable into temporary directory...\n",
      "INFO: Preparing files...\n"
     ]
    },
    {
     "name": "stdout",
     "output_type": "stream",
     "text": [
      "dra file saved.\n",
      "3 crop file(s) saved.\n",
      "283.met saved.\n"
     ]
    },
    {
     "name": "stderr",
     "output_type": "stream",
     "text": [
      "INFO: \n",
      " running swap ....\n",
      "Swap normal completion!\n",
      "\n",
      "WARNING: Warnings:\n",
      "/workspaces/pySWAP/pyswap/model/model.py:318: Warning: Warning from module Readswap : simulation with additonal Ksat value (Ksatexm)\n",
      "  return ModelRunner(self).run(path, silence_warnings, old_output)\n"
     ]
    }
   ],
   "source": [
    "result = ml2.run(\"./\")"
   ]
  },
  {
   "cell_type": "code",
   "execution_count": 14,
   "metadata": {},
   "outputs": [
    {
     "name": "stdout",
     "output_type": "stream",
     "text": [
      "            DEPTH         H        WC\n",
      "DATE                                 \n",
      "2002-01-31   -0.5  -58.4187  0.294339\n",
      "2002-01-31   -1.5  -57.7861  0.295358\n",
      "2002-01-31   -2.5  -57.1407  0.296407\n",
      "2002-01-31   -3.5  -56.4827  0.297487\n",
      "2002-01-31   -4.5  -55.8122  0.298598\n",
      "...           ...       ...       ...\n",
      "2004-12-31 -155.0   87.4625  0.380000\n",
      "2004-12-31 -165.0   97.4150  0.380000\n",
      "2004-12-31 -175.0  107.3790  0.380000\n",
      "2004-12-31 -185.0  117.3560  0.380000\n",
      "2004-12-31 -195.0  127.3440  0.380000\n",
      "\n",
      "[1224 rows x 3 columns]\n"
     ]
    }
   ],
   "source": [
    "# The full log\n",
    "print(result.output_tz)"
   ]
  },
  {
   "cell_type": "code",
   "execution_count": 9,
   "metadata": {},
   "outputs": [
    {
     "name": "stdout",
     "output_type": "stream",
     "text": [
      "* Project:       pySWAP test - hupselbrook\n",
      "* File content:  detailed overview of water balance components (cm)\n",
      "* File name:     ./result.blc\n",
      "* Model version: Swap 4.2.0\n",
      "* Generated at:  2024-11-25 16:22:24\n",
      "\n",
      "Period             :  2002-01-01  until  2002-12-31 \n",
      "Depth soil profile :  200.00 cm\n",
      "=================================================+=================================================\n",
      "INPUT                                            | OUTPUT\n",
      "                   PLANT    SNOW    POND    SOIL |                   PLANT    SNOW    POND    SOIL\n",
      "=================================================+=================================================\n",
      "Initially Present           0.00    0.00   71.60 | Finally present            0.00    0.00   75.56\n",
      "Gross Rainfall     84.18                         |\n",
      "Nett Rainfall               0.00   80.44         | Nett Rainfall     80.44\n",
      "Gross Irrigation    0.50                         |\n",
      "Nett Irrigation                     0.50         | Nett Irrigation    0.50\n",
      "                                                 | Interception       3.74\n",
      "Snowfall                    0.00                 |\n",
      "Snowmelt                            0.00         | Snowmelt                   0.00\n",
      "                                                 | Sublimation                0.00\n",
      "SSDI                                        0.00 | Plant Transpiration                       38.17\n",
      "                                                 | Soil Evaporation                  16.69\n",
      "Runon                               0.00         | Runoff                             0.00\n",
      "Inundation                          0.00         |\n",
      "Infiltr. Soil Surf.                        72.17 | Infiltr. Soil Surf.               72.17\n",
      "Exfiltr. Soil Surf.                 7.92         | Exfiltr. Soil Surf.                        7.92\n",
      "Infiltr. subsurf.                                | Drainage\n",
      "- system 1                                  0.00 | - system 1                                22.11\n",
      "Upward seepage                              0.00 | Downward seepage                           0.00\n",
      "=================================================+=================================================\n",
      "Sum                84.68    0.00   88.85  143.76 | Sum               84.68    0.00   88.85  143.76\n",
      "=================================================+=================================================\n",
      "Storage Change              0.00    0.00    3.96\n",
      "Balance Deviation   0.00    0.00    0.00   -0.00\n",
      "===================================================================================================\n",
      "\n",
      "\n",
      "Period             :  2003-01-01  until  2003-12-31 \n",
      "Depth soil profile :  200.00 cm\n",
      "=================================================+=================================================\n",
      "INPUT                                            | OUTPUT\n",
      "                   PLANT    SNOW    POND    SOIL |                   PLANT    SNOW    POND    SOIL\n",
      "=================================================+=================================================\n",
      "Initially Present           0.00    0.00   75.56 | Finally present            0.00    0.00   72.64\n",
      "Gross Rainfall     71.98                         |\n",
      "Nett Rainfall               0.00   69.92         | Nett Rainfall     69.92\n",
      "Gross Irrigation    0.00                         |\n",
      "Nett Irrigation                     0.00         | Nett Irrigation    0.00\n",
      "                                                 | Interception       2.06\n",
      "Snowfall                    0.00                 |\n",
      "Snowmelt                            0.00         | Snowmelt                   0.00\n",
      "                                                 | Sublimation                0.00\n",
      "SSDI                                        0.00 | Plant Transpiration                       29.22\n",
      "                                                 | Soil Evaporation                  17.18\n",
      "Runon                               0.00         | Runoff                             0.00\n",
      "Inundation                          0.00         |\n",
      "Infiltr. Soil Surf.                        62.17 | Infiltr. Soil Surf.               62.17\n",
      "Exfiltr. Soil Surf.                 9.42         | Exfiltr. Soil Surf.                        9.42\n",
      "Infiltr. subsurf.                                | Drainage\n",
      "- system 1                                  0.00 | - system 1                                26.45\n",
      "Upward seepage                              0.00 | Downward seepage                           0.00\n",
      "=================================================+=================================================\n",
      "Sum                71.98    0.00   79.35  137.73 | Sum               71.98    0.00   79.35  137.73\n",
      "=================================================+=================================================\n",
      "Storage Change              0.00    0.00   -2.92\n",
      "Balance Deviation  -0.00    0.00    0.00   -0.00\n",
      "===================================================================================================\n",
      "\n",
      "\n",
      "Period             :  2004-01-01  until  2004-12-31 \n",
      "Depth soil profile :  200.00 cm\n",
      "=================================================+=================================================\n",
      "INPUT                                            | OUTPUT\n",
      "                   PLANT    SNOW    POND    SOIL |                   PLANT    SNOW    POND    SOIL\n",
      "=================================================+=================================================\n",
      "Initially Present           0.00    0.00   72.64 | Finally present            0.00    0.00   73.05\n",
      "Gross Rainfall     80.55                         |\n",
      "Nett Rainfall               0.00   75.63         | Nett Rainfall     75.63\n",
      "Gross Irrigation    0.00                         |\n",
      "Nett Irrigation                     0.00         | Nett Irrigation    0.00\n",
      "                                                 | Interception       4.92\n",
      "Snowfall                    0.00                 |\n",
      "Snowmelt                            0.00         | Snowmelt                   0.00\n",
      "                                                 | Sublimation                0.00\n",
      "SSDI                                        0.00 | Plant Transpiration                       32.57\n",
      "                                                 | Soil Evaporation                  17.89\n",
      "Runon                               0.00         | Runoff                             0.00\n",
      "Inundation                          0.00         |\n",
      "Infiltr. Soil Surf.                        67.29 | Infiltr. Soil Surf.               67.29\n",
      "Exfiltr. Soil Surf.                 9.55         | Exfiltr. Soil Surf.                        9.55\n",
      "Infiltr. subsurf.                                | Drainage\n",
      "- system 1                                  0.00 | - system 1                                24.77\n",
      "Upward seepage                              0.00 | Downward seepage                           0.00\n",
      "=================================================+=================================================\n",
      "Sum                80.55    0.00   85.18  139.93 | Sum               80.55    0.00   85.18  139.93\n",
      "=================================================+=================================================\n",
      "Storage Change              0.00    0.00    0.41\n",
      "Balance Deviation   0.00    0.00    0.00    0.00\n",
      "===================================================================================================\n",
      "\n",
      "\n"
     ]
    }
   ],
   "source": [
    "print(result.blc_summary)"
   ]
  },
  {
   "cell_type": "code",
   "execution_count": null,
   "metadata": {},
   "outputs": [],
   "source": [
    "result.yearly_summary()"
   ]
  }
 ],
 "metadata": {
  "kernelspec": {
   "display_name": "pyswap-U62T3krn-py3.11",
   "language": "python",
   "name": "python3"
  },
  "language_info": {
   "codemirror_mode": {
    "name": "ipython",
    "version": 3
   },
   "file_extension": ".py",
   "mimetype": "text/x-python",
   "name": "python",
   "nbconvert_exporter": "python",
   "pygments_lexer": "ipython3",
   "version": "3.11.10"
  }
 },
 "nbformat": 4,
 "nbformat_minor": 2
}
