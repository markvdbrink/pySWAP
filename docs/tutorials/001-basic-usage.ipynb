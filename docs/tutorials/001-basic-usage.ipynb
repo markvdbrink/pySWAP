{
 "cells": [
  {
   "cell_type": "markdown",
   "metadata": {},
   "source": [
    "# Basic usage\n",
    "\n",
    "Welcome to the basic usage notebook of pySWAP package. Here we will go through the basics of how a SWAP model is constructed in pySWAP, load one of the test case models and explore it a bit."
   ]
  },
  {
   "cell_type": "code",
   "execution_count": 1,
   "metadata": {},
   "outputs": [],
   "source": [
    "import pyswap as psp\n",
    "\n",
    "psp.log.set_log_level(\"WARNING\")"
   ]
  },
  {
   "cell_type": "markdown",
   "metadata": {},
   "source": [
    "pySWAP is an object-oriented library, which means that we try to split and encapsulate distinct parts of the SWAP model setup as objects. These objects need to be defined by the user at the initial stage and then can later be easily manipulated, copied and compared. Below is an example of the Meteorological settings object:"
   ]
  },
  {
   "cell_type": "markdown",
   "metadata": {},
   "source": [
    "## Hupselbrook testcase\n",
    "\n",
    "A lot of the model settings still need to be explicitly written out. There is, however, an ongoing effort to reduce to minimum the amount of code that has to be written for the initial model. If you are interested how the Hupselbrook model is implemented in pySWAP, take a look at file `hupselbrook.py` in `testcase` module.\n",
    "\n",
    "Let's load the model and check the metadata."
   ]
  },
  {
   "cell_type": "code",
   "execution_count": 2,
   "metadata": {},
   "outputs": [
    {
     "ename": "AttributeError",
     "evalue": "module 'pyswap.components.crop' has no attribute 'CHTB'",
     "output_type": "error",
     "traceback": [
      "\u001b[0;31m---------------------------------------------------------------------------\u001b[0m",
      "\u001b[0;31mAttributeError\u001b[0m                            Traceback (most recent call last)",
      "Cell \u001b[0;32mIn[2], line 1\u001b[0m\n\u001b[0;32m----> 1\u001b[0m ml \u001b[38;5;241m=\u001b[39m \u001b[43mpsp\u001b[49m\u001b[38;5;241;43m.\u001b[39;49m\u001b[43mtestcase\u001b[49m\u001b[38;5;241;43m.\u001b[39;49m\u001b[43mget\u001b[49m\u001b[43m(\u001b[49m\u001b[38;5;124;43m\"\u001b[39;49m\u001b[38;5;124;43mhupselbrook\u001b[39;49m\u001b[38;5;124;43m\"\u001b[39;49m\u001b[43m)\u001b[49m\n",
      "File \u001b[0;32m/workspaces/pySWAP/pyswap/testcase/run_testcase.py:30\u001b[0m, in \u001b[0;36mget\u001b[0;34m(case)\u001b[0m\n\u001b[1;32m     11\u001b[0m \u001b[38;5;28;01mdef\u001b[39;00m \u001b[38;5;21mget\u001b[39m(\n\u001b[1;32m     12\u001b[0m     case: Literal[\n\u001b[1;32m     13\u001b[0m         \u001b[38;5;124m\"\u001b[39m\u001b[38;5;124mhupselbrook\u001b[39m\u001b[38;5;124m\"\u001b[39m,\n\u001b[0;32m   (...)\u001b[0m\n\u001b[1;32m     19\u001b[0m     ],\n\u001b[1;32m     20\u001b[0m ):\n\u001b[1;32m     21\u001b[0m     cases \u001b[38;5;241m=\u001b[39m {\n\u001b[1;32m     22\u001b[0m         \u001b[38;5;124m\"\u001b[39m\u001b[38;5;124mhupselbrook\u001b[39m\u001b[38;5;124m\"\u001b[39m: _make_hupselbrook,\n\u001b[1;32m     23\u001b[0m         \u001b[38;5;124m\"\u001b[39m\u001b[38;5;124moxygenstress\u001b[39m\u001b[38;5;124m\"\u001b[39m: _make_oxygenstress,\n\u001b[0;32m   (...)\u001b[0m\n\u001b[1;32m     27\u001b[0m         \u001b[38;5;124m\"\u001b[39m\u001b[38;5;124msurfacewater\u001b[39m\u001b[38;5;124m\"\u001b[39m: _make_surfacewater,\n\u001b[1;32m     28\u001b[0m     }\n\u001b[0;32m---> 30\u001b[0m     \u001b[38;5;28;01mreturn\u001b[39;00m \u001b[43mcases\u001b[49m\u001b[43m[\u001b[49m\u001b[43mcase\u001b[49m\u001b[43m]\u001b[49m\u001b[43m(\u001b[49m\u001b[43m)\u001b[49m\n",
      "File \u001b[0;32m/workspaces/pySWAP/pyswap/testcase/hupselbrook.py:90\u001b[0m, in \u001b[0;36m_make_hupselbrook\u001b[0;34m()\u001b[0m\n\u001b[1;32m     83\u001b[0m DVS \u001b[38;5;241m=\u001b[39m [\u001b[38;5;241m0.0\u001b[39m, \u001b[38;5;241m0.3\u001b[39m, \u001b[38;5;241m0.5\u001b[39m, \u001b[38;5;241m0.7\u001b[39m, \u001b[38;5;241m1.0\u001b[39m, \u001b[38;5;241m1.4\u001b[39m, \u001b[38;5;241m2.0\u001b[39m]\n\u001b[1;32m     85\u001b[0m maize_gctb \u001b[38;5;241m=\u001b[39m psp\u001b[38;5;241m.\u001b[39mcomponents\u001b[38;5;241m.\u001b[39mcrop\u001b[38;5;241m.\u001b[39mGCTB\u001b[38;5;241m.\u001b[39mcreate({\n\u001b[1;32m     86\u001b[0m     \u001b[38;5;124m\"\u001b[39m\u001b[38;5;124mDVS\u001b[39m\u001b[38;5;124m\"\u001b[39m: DVS,\n\u001b[1;32m     87\u001b[0m     \u001b[38;5;124m\"\u001b[39m\u001b[38;5;124mLAI\u001b[39m\u001b[38;5;124m\"\u001b[39m: [\u001b[38;5;241m0.05\u001b[39m, \u001b[38;5;241m0.14\u001b[39m, \u001b[38;5;241m0.61\u001b[39m, \u001b[38;5;241m4.10\u001b[39m, \u001b[38;5;241m5.00\u001b[39m, \u001b[38;5;241m5.80\u001b[39m, \u001b[38;5;241m5.20\u001b[39m],\n\u001b[1;32m     88\u001b[0m })\n\u001b[0;32m---> 90\u001b[0m maize_chtb \u001b[38;5;241m=\u001b[39m \u001b[43mpsp\u001b[49m\u001b[38;5;241;43m.\u001b[39;49m\u001b[43mcomponents\u001b[49m\u001b[38;5;241;43m.\u001b[39;49m\u001b[43mcrop\u001b[49m\u001b[38;5;241;43m.\u001b[39;49m\u001b[43mCHTB\u001b[49m\u001b[38;5;241m.\u001b[39mcreate({\n\u001b[1;32m     91\u001b[0m     \u001b[38;5;124m\"\u001b[39m\u001b[38;5;124mDVS\u001b[39m\u001b[38;5;124m\"\u001b[39m: DVS,\n\u001b[1;32m     92\u001b[0m     \u001b[38;5;124m\"\u001b[39m\u001b[38;5;124mCH\u001b[39m\u001b[38;5;124m\"\u001b[39m: [\u001b[38;5;241m1.0\u001b[39m, \u001b[38;5;241m15.0\u001b[39m, \u001b[38;5;241m40.0\u001b[39m, \u001b[38;5;241m140.0\u001b[39m, \u001b[38;5;241m170.0\u001b[39m, \u001b[38;5;241m180.0\u001b[39m, \u001b[38;5;241m175.0\u001b[39m],\n\u001b[1;32m     93\u001b[0m })\n\u001b[1;32m     95\u001b[0m maize_rdtb \u001b[38;5;241m=\u001b[39m psp\u001b[38;5;241m.\u001b[39mcomponents\u001b[38;5;241m.\u001b[39mcrop\u001b[38;5;241m.\u001b[39mRDTB\u001b[38;5;241m.\u001b[39mcreate({\n\u001b[1;32m     96\u001b[0m     \u001b[38;5;124m\"\u001b[39m\u001b[38;5;124mDVS\u001b[39m\u001b[38;5;124m\"\u001b[39m: [\u001b[38;5;241m0.0\u001b[39m, \u001b[38;5;241m0.3\u001b[39m, \u001b[38;5;241m0.5\u001b[39m, \u001b[38;5;241m0.7\u001b[39m, \u001b[38;5;241m1.0\u001b[39m, \u001b[38;5;241m2.0\u001b[39m],\n\u001b[1;32m     97\u001b[0m     \u001b[38;5;124m\"\u001b[39m\u001b[38;5;124mRD\u001b[39m\u001b[38;5;124m\"\u001b[39m: [\u001b[38;5;241m5.0\u001b[39m, \u001b[38;5;241m20.0\u001b[39m, \u001b[38;5;241m50.0\u001b[39m, \u001b[38;5;241m80.0\u001b[39m, \u001b[38;5;241m90.0\u001b[39m, \u001b[38;5;241m100.0\u001b[39m],\n\u001b[1;32m     98\u001b[0m })\n\u001b[1;32m    100\u001b[0m maize_rdctb \u001b[38;5;241m=\u001b[39m psp\u001b[38;5;241m.\u001b[39mcomponents\u001b[38;5;241m.\u001b[39mcrop\u001b[38;5;241m.\u001b[39mRDCTB\u001b[38;5;241m.\u001b[39mcreate({\n\u001b[1;32m    101\u001b[0m     \u001b[38;5;124m\"\u001b[39m\u001b[38;5;124mRRD\u001b[39m\u001b[38;5;124m\"\u001b[39m: [\u001b[38;5;241m0.0\u001b[39m, \u001b[38;5;241m1.0\u001b[39m],\n\u001b[1;32m    102\u001b[0m     \u001b[38;5;124m\"\u001b[39m\u001b[38;5;124mRDENS\u001b[39m\u001b[38;5;124m\"\u001b[39m: [\u001b[38;5;241m1.0\u001b[39m, \u001b[38;5;241m0.0\u001b[39m],\n\u001b[1;32m    103\u001b[0m })\n",
      "\u001b[0;31mAttributeError\u001b[0m: module 'pyswap.components.crop' has no attribute 'CHTB'"
     ]
    }
   ],
   "source": [
    "ml = psp.testcase.get(\"hupselbrook\")"
   ]
  },
  {
   "cell_type": "markdown",
   "metadata": {},
   "source": [
    "`Model` object has a method run, which runs the model and captures the results into a `Result` object. The only argument that needs to be passed is the path to where the temporary directory can be created."
   ]
  },
  {
   "cell_type": "code",
   "execution_count": null,
   "metadata": {},
   "outputs": [],
   "source": [
    "print(ml.swp)"
   ]
  },
  {
   "cell_type": "code",
   "execution_count": null,
   "metadata": {},
   "outputs": [],
   "source": [
    "result = ml.run(\"./\")"
   ]
  },
  {
   "cell_type": "markdown",
   "metadata": {},
   "source": [
    "From now on, we can use Result object's attributes and computed fields to access the results. The .csv, for example, is already loaded as DataFrame."
   ]
  },
  {
   "cell_type": "code",
   "execution_count": null,
   "metadata": {},
   "outputs": [],
   "source": [
    "result.output.keys()"
   ]
  },
  {
   "cell_type": "code",
   "execution_count": null,
   "metadata": {},
   "outputs": [],
   "source": [
    "result.yearly_summary"
   ]
  },
  {
   "cell_type": "code",
   "execution_count": null,
   "metadata": {},
   "outputs": [],
   "source": [
    "print(result.blc_summary)"
   ]
  },
  {
   "cell_type": "code",
   "execution_count": null,
   "metadata": {},
   "outputs": [],
   "source": [
    "result.csv[[\"RAIN\", \"IRRIG\", \"INTERC\"]].plot()"
   ]
  },
  {
   "cell_type": "markdown",
   "metadata": {},
   "source": [
    "## Alternative way to load a model\n",
    "\n",
    "Since pyswap 0.2.0, it is possible to load an entire model from the classic ascii configuration files. In order to do that, you need to create the swp and other relevant files separately and then put them together in a model."
   ]
  },
  {
   "cell_type": "code",
   "execution_count": null,
   "metadata": {},
   "outputs": [],
   "source": [
    "\n",
    "meta = Metadata(\n",
    "    author=\"John Doe\",\n",
    "    institution=\"University of Somewhere\",\n",
    "    email=\"john.doe@somewhere.com\",\n",
    "    project=\"pySWAP test - hupselbrook\",\n",
    "    swap_ver=\"4.2\",\n",
    ")\n",
    "\n",
    "ml = load_swp(hupsel_swp_path, meta)\n",
    "\n",
    "\n",
    "hupsel_dra_path = testcase.load_dataset.RESOURCES[\"hupselbrook\"][\"dra\"]\n",
    "\n",
    "dra = load_dra(hupsel_dra_path)\n"
   ]
  },
  {
   "cell_type": "markdown",
   "metadata": {},
   "source": [
    "## Changing the model settings\n",
    "\n",
    "Assume you would like to add another file extension to be generated, or make any other change for that matter. The best way to achieve this is to create a copy of a component you want to alter, and then update the model with that new component, saving it's copy."
   ]
  },
  {
   "cell_type": "code",
   "execution_count": null,
   "metadata": {},
   "outputs": [],
   "source": [
    "# updated general settings including inlist_csv_tz\n",
    "generalsettings_csv_tz = ml.generalsettings.model_copy(deep=True)"
   ]
  },
  {
   "cell_type": "code",
   "execution_count": null,
   "metadata": {},
   "outputs": [],
   "source": [
    "print(generalsettings_csv_tz.model_string())"
   ]
  },
  {
   "cell_type": "code",
   "execution_count": null,
   "metadata": {},
   "outputs": [],
   "source": [
    "generalsettings_csv_tz.add_extension(\"csv_tz\", inlist=[\"WC\", \"H\"])"
   ]
  },
  {
   "cell_type": "code",
   "execution_count": null,
   "metadata": {},
   "outputs": [],
   "source": [
    "print(generalsettings_csv_tz.model_string())"
   ]
  },
  {
   "cell_type": "code",
   "execution_count": null,
   "metadata": {},
   "outputs": [],
   "source": [
    "ml2 = ml.model_copy(update={\"generalsettings\": generalsettings_csv_tz})"
   ]
  },
  {
   "cell_type": "code",
   "execution_count": null,
   "metadata": {},
   "outputs": [],
   "source": [
    "print(ml2.swp)"
   ]
  },
  {
   "cell_type": "code",
   "execution_count": null,
   "metadata": {},
   "outputs": [],
   "source": [
    "result2 = ml2.run(\"./\")"
   ]
  },
  {
   "cell_type": "code",
   "execution_count": null,
   "metadata": {},
   "outputs": [],
   "source": [
    "result2.output.keys()"
   ]
  },
  {
   "cell_type": "code",
   "execution_count": null,
   "metadata": {},
   "outputs": [],
   "source": [
    "result.csv_tz.head()  # this will be None\n",
    "result2.csv_tz.head()  # this will show a DataFrame with the WC and H columns"
   ]
  },
  {
   "cell_type": "code",
   "execution_count": null,
   "metadata": {},
   "outputs": [],
   "source": [
    "print(result2.csv_tz)"
   ]
  },
  {
   "cell_type": "code",
   "execution_count": null,
   "metadata": {},
   "outputs": [],
   "source": [
    "from pyswap.core.plot import water_content\n",
    "\n",
    "wc_df = result2.csv_tz.reset_index()\n",
    "\n",
    "water_content(wc_df, \"DEPTH\", \"DATE\", \"WC\")"
   ]
  },
  {
   "cell_type": "markdown",
   "metadata": {},
   "source": [
    "## Alternative way to setup the model\n",
    "\n",
    "Initially it was only possible to directly assign generated model components to the Model object attributes. Since the newest release (November 2024) it is possible to set up and run the model by adding the individual "
   ]
  }
 ],
 "metadata": {
  "kernelspec": {
   "display_name": "pyswap-U62T3krn-py3.11",
   "language": "python",
   "name": "python3"
  },
  "language_info": {
   "codemirror_mode": {
    "name": "ipython",
    "version": 3
   },
   "file_extension": ".py",
   "mimetype": "text/x-python",
   "name": "python",
   "nbconvert_exporter": "python",
   "pygments_lexer": "ipython3",
   "version": "3.11.11"
  }
 },
 "nbformat": 4,
 "nbformat_minor": 2
}
