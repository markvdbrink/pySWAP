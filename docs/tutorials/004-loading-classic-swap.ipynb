{
 "cells": [
  {
   "cell_type": "markdown",
   "metadata": {},
   "source": [
    "# Load classic SWAP model\n",
    "\n",
    "This notebook demonstrates how to create a pySWAP model using standard ASCII files. pySWAP is a Python implementation of the Soil Water Atmosphere Plant (SWAP) model, which is used to simulate water flow and solute transport in the soil-plant-atmosphere system.\n",
    "\n",
    "In this notebook, we will:\n",
    "1. Load the necessary ASCII files.\n",
    "2. Parse the data from these files.\n",
    "3. Create and configure a pySWAP model using the parsed data.\n",
    "4. Run the model and analyze the results."
   ]
  },
  {
   "cell_type": "code",
   "execution_count": null,
   "metadata": {},
   "outputs": [],
   "source": []
  }
 ],
 "metadata": {
  "kernelspec": {
   "display_name": "pyswap-U62T3krn-py3.11",
   "language": "python",
   "name": "python3"
  },
  "language_info": {
   "codemirror_mode": {
    "name": "ipython",
    "version": 3
   },
   "file_extension": ".py",
   "mimetype": "text/x-python",
   "name": "python",
   "nbconvert_exporter": "python",
   "pygments_lexer": "ipython3",
   "version": "3.11.10"
  }
 },
 "nbformat": 4,
 "nbformat_minor": 2
}
